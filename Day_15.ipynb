{
  "nbformat": 4,
  "nbformat_minor": 0,
  "metadata": {
    "colab": {
      "name": "Day_15.ipynb",
      "provenance": [],
      "authorship_tag": "ABX9TyO7/Hifd7h4o35odThhVJOo",
      "include_colab_link": true
    },
    "kernelspec": {
      "name": "python3",
      "display_name": "Python 3"
    }
  },
  "cells": [
    {
      "cell_type": "markdown",
      "metadata": {
        "id": "view-in-github",
        "colab_type": "text"
      },
      "source": [
        "<a href=\"https://colab.research.google.com/github/ngken0995/HackerRank/blob/master/Day_15.ipynb\" target=\"_parent\"><img src=\"https://colab.research.google.com/assets/colab-badge.svg\" alt=\"Open In Colab\"/></a>"
      ]
    },
    {
      "cell_type": "code",
      "metadata": {
        "id": "rFg_h-Ni7jq2",
        "colab_type": "code",
        "colab": {}
      },
      "source": [
        "class Node:\n",
        "    def __init__(self,data):\n",
        "        self.data = data\n",
        "        self.next = None \n",
        "class Solution: \n",
        "    def display(self,head):\n",
        "        current = head\n",
        "        while current:\n",
        "            print(current.data,end=' ')\n",
        "            current = current.next\n",
        "\n",
        "    def insert(self,head,data): \n",
        "        newNode = Node(data)\n",
        "        if head is None:\n",
        "            head = newNode\n",
        "            return head\n",
        "        \n",
        "        current = head\n",
        "        while current.next:\n",
        "            current = current.next\n",
        "        current.next = newNode\n",
        "\n",
        "        return head\n",
        "\n",
        "mylist= Solution()\n",
        "T=int(input())\n",
        "head=None\n",
        "for i in range(T):\n",
        "    data=int(input())\n",
        "    head=mylist.insert(head,data)    \n",
        "mylist.display(head); \t"
      ],
      "execution_count": 0,
      "outputs": []
    }
  ]
}