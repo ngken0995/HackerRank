{
  "nbformat": 4,
  "nbformat_minor": 0,
  "metadata": {
    "colab": {
      "name": "Day_14.ipynb",
      "provenance": [],
      "authorship_tag": "ABX9TyOfHIRxO2rFXosgKC/RxuTS",
      "include_colab_link": true
    },
    "kernelspec": {
      "name": "python3",
      "display_name": "Python 3"
    }
  },
  "cells": [
    {
      "cell_type": "markdown",
      "metadata": {
        "id": "view-in-github",
        "colab_type": "text"
      },
      "source": [
        "<a href=\"https://colab.research.google.com/github/ngken0995/HackerRank/blob/master/Day_14.ipynb\" target=\"_parent\"><img src=\"https://colab.research.google.com/assets/colab-badge.svg\" alt=\"Open In Colab\"/></a>"
      ]
    },
    {
      "cell_type": "code",
      "metadata": {
        "id": "WfNnMIRhssxh",
        "colab_type": "code",
        "colab": {}
      },
      "source": [
        "from itertools import combinations \n",
        "import numpy as np\n",
        "\n"
      ],
      "execution_count": 0,
      "outputs": []
    },
    {
      "cell_type": "code",
      "metadata": {
        "id": "iQTiHw161mUx",
        "colab_type": "code",
        "colab": {}
      },
      "source": [
        "class Difference:\n",
        "  def __init__(self, a):\n",
        "    self.__elements = a\n",
        "\n",
        "  def computeDifference(self):\n",
        "    collect = []\n",
        "    comb = list(combinations(a,2))\n",
        "    for i,j in comb:\n",
        "      value = abs(i-j)\n",
        "      collect.append(value)\n",
        "    print(max(collect))\n",
        "    "
      ],
      "execution_count": 0,
      "outputs": []
    },
    {
      "cell_type": "code",
      "metadata": {
        "id": "veHsTpcQxTBF",
        "colab_type": "code",
        "outputId": "2de224a9-18ef-4478-aece-9cf21aa90f14",
        "colab": {
          "base_uri": "https://localhost:8080/",
          "height": 51
        }
      },
      "source": [
        "t = int(input())\n",
        "a = list( map(int, input().split()) )\n",
        "\n"
      ],
      "execution_count": 0,
      "outputs": [
        {
          "output_type": "stream",
          "text": [
            "3\n",
            "1 2 5\n"
          ],
          "name": "stdout"
        }
      ]
    },
    {
      "cell_type": "code",
      "metadata": {
        "id": "WkyqFY6Q2JUT",
        "colab_type": "code",
        "colab": {}
      },
      "source": [
        "b = Difference(a)"
      ],
      "execution_count": 0,
      "outputs": []
    },
    {
      "cell_type": "code",
      "metadata": {
        "id": "NfZ2mN222REy",
        "colab_type": "code",
        "outputId": "2abc87e4-f2e4-4b28-99cc-133e4e05b9a6",
        "colab": {
          "base_uri": "https://localhost:8080/",
          "height": 34
        }
      },
      "source": [
        "b.computeDifference()"
      ],
      "execution_count": 0,
      "outputs": [
        {
          "output_type": "stream",
          "text": [
            "4\n"
          ],
          "name": "stdout"
        }
      ]
    },
    {
      "cell_type": "code",
      "metadata": {
        "id": "I-yUFc7ykDZ4",
        "colab_type": "code",
        "outputId": "99e67200-2bcb-479f-afc9-23911cb5a6e4",
        "colab": {
          "base_uri": "https://localhost:8080/",
          "height": 34
        }
      },
      "source": [
        "a = [int(e) for e in input().split(' ')]"
      ],
      "execution_count": 0,
      "outputs": [
        {
          "output_type": "stream",
          "text": [
            "1 2 5 1\n"
          ],
          "name": "stdout"
        }
      ]
    },
    {
      "cell_type": "code",
      "metadata": {
        "id": "ZpFUWoX7kDcd",
        "colab_type": "code",
        "outputId": "4fa7a795-6d29-43ba-9418-2eae412d72d8",
        "colab": {
          "base_uri": "https://localhost:8080/",
          "height": 34
        }
      },
      "source": [
        "print(a)"
      ],
      "execution_count": 0,
      "outputs": [
        {
          "output_type": "stream",
          "text": [
            "[1, 2, 5, 1]\n"
          ],
          "name": "stdout"
        }
      ]
    }
  ]
}