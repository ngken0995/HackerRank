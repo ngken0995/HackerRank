{
  "nbformat": 4,
  "nbformat_minor": 0,
  "metadata": {
    "colab": {
      "name": "Day_16.ipynb",
      "provenance": [],
      "authorship_tag": "ABX9TyNWs91eOSf/+7nd2zLxsmVo",
      "include_colab_link": true
    },
    "kernelspec": {
      "name": "python3",
      "display_name": "Python 3"
    }
  },
  "cells": [
    {
      "cell_type": "markdown",
      "metadata": {
        "id": "view-in-github",
        "colab_type": "text"
      },
      "source": [
        "<a href=\"https://colab.research.google.com/github/ngken0995/HackerRank/blob/master/Day_16.ipynb\" target=\"_parent\"><img src=\"https://colab.research.google.com/assets/colab-badge.svg\" alt=\"Open In Colab\"/></a>"
      ]
    },
    {
      "cell_type": "code",
      "metadata": {
        "id": "n_h_KgYE8F8h",
        "colab_type": "code",
        "colab": {}
      },
      "source": [
        "import sys\n",
        "\n",
        "\n",
        "S = input().strip()\n",
        "\n",
        "try:\n",
        "    print(int(S))\n",
        "\n",
        "except (EOFError, ValueError):\n",
        "    print('Bad String')"
      ],
      "execution_count": 0,
      "outputs": []
    }
  ]
}