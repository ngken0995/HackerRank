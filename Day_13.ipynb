{
  "nbformat": 4,
  "nbformat_minor": 0,
  "metadata": {
    "colab": {
      "name": "Day_13.ipynb",
      "provenance": [],
      "authorship_tag": "ABX9TyPsFqwfAoAitLo6HKcspqJx",
      "include_colab_link": true
    },
    "kernelspec": {
      "name": "python3",
      "display_name": "Python 3"
    }
  },
  "cells": [
    {
      "cell_type": "markdown",
      "metadata": {
        "id": "view-in-github",
        "colab_type": "text"
      },
      "source": [
        "<a href=\"https://colab.research.google.com/github/ngken0995/HackerRank/blob/master/Day_13.ipynb\" target=\"_parent\"><img src=\"https://colab.research.google.com/assets/colab-badge.svg\" alt=\"Open In Colab\"/></a>"
      ]
    },
    {
      "cell_type": "code",
      "metadata": {
        "id": "PSQ2A7L3OODH",
        "colab_type": "code",
        "colab": {}
      },
      "source": [
        "from abc import ABCMeta, abstractmethod\n",
        "class Book(object, metaclass=ABCMeta):\n",
        "    def __init__(self,title,author):\n",
        "        self.title=title\n",
        "        self.author=author   \n",
        "    @abstractmethod\n",
        "    def display(): pass"
      ],
      "execution_count": 0,
      "outputs": []
    },
    {
      "cell_type": "code",
      "metadata": {
        "id": "7zKFcW8NQefK",
        "colab_type": "code",
        "colab": {}
      },
      "source": [
        "#Write MyBook class\n",
        "class MyBook(Book):\n",
        "  def __init__(self, title, author, price):\n",
        "    Book.__init__(self,title, author)\n",
        "    self.price = price\n",
        "\n",
        "  def display(self):\n",
        "    print(f'Title: {title}\\nAuthor: {author}\\nPrice: {price}')\n",
        "\n"
      ],
      "execution_count": 0,
      "outputs": []
    },
    {
      "cell_type": "code",
      "metadata": {
        "id": "b5QSGWCHQgMx",
        "colab_type": "code",
        "outputId": "2657ddf5-186b-4598-e779-7cafa54e7d14",
        "colab": {
          "base_uri": "https://localhost:8080/",
          "height": 119
        }
      },
      "source": [
        "title=input()\n",
        "author=input()\n",
        "price=int(input())\n",
        "new_novel=MyBook(title,author,price)\n",
        "new_novel.display()"
      ],
      "execution_count": 0,
      "outputs": [
        {
          "output_type": "stream",
          "text": [
            "Tin Man\n",
            "Saul\n",
            "245\n",
            "Title: Tin Man\n",
            "Author: Saul\n",
            "Price: 245\n"
          ],
          "name": "stdout"
        }
      ]
    }
  ]
}